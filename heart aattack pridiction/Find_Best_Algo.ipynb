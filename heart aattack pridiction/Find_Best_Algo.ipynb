{
 "cells": [
  {
   "cell_type": "code",
   "execution_count": 2,
   "id": "f30589c3-657a-4587-8c5d-06174a61b1bd",
   "metadata": {},
   "outputs": [
    {
     "name": "stdout",
     "output_type": "stream",
     "text": [
      "LogisticRegression:\n",
      "Accuracy: 0.80\n",
      "Precision: 0.76\n",
      "Recall: 0.87\n",
      "F1-score: 0.81\n",
      "ROC AUC: 0.79\n",
      "--------------------------------------------------\n",
      "GaussianNB:\n",
      "Accuracy: 0.80\n",
      "Precision: 0.75\n",
      "Recall: 0.89\n",
      "F1-score: 0.82\n",
      "ROC AUC: 0.80\n",
      "--------------------------------------------------\n",
      "DecisionTreeClassifier:\n",
      "Accuracy: 0.99\n",
      "Precision: 1.00\n",
      "Recall: 0.97\n",
      "F1-score: 0.99\n",
      "ROC AUC: 0.99\n",
      "--------------------------------------------------\n",
      "RandomForestClassifier:\n",
      "Accuracy: 0.99\n",
      "Precision: 1.00\n",
      "Recall: 0.97\n",
      "F1-score: 0.99\n",
      "ROC AUC: 0.99\n",
      "--------------------------------------------------\n",
      "The algorithm with the highest accuracy is DecisionTreeClassifier with an accuracy of 0.99\n"
     ]
    }
   ],
   "source": [
    "import pandas as pd\n",
    "from sklearn.model_selection import train_test_split\n",
    "from sklearn.linear_model import LogisticRegression\n",
    "from sklearn.naive_bayes import GaussianNB\n",
    "from sklearn.tree import DecisionTreeClassifier\n",
    "from sklearn.ensemble import RandomForestClassifier\n",
    "from sklearn.metrics import accuracy_score, precision_score, recall_score, f1_score, roc_auc_score\n",
    "\n",
    "# Load the heart attack prediction dataset\n",
    "dataset = pd.read_csv('heart.csv')\n",
    "\n",
    "# Split the dataset into training and testing sets\n",
    "X = dataset.drop('target', axis=1)\n",
    "y = dataset['target']\n",
    "X_train, X_test, y_train, y_test = train_test_split(X, y, test_size=0.2, random_state=42)\n",
    "\n",
    "# Initialize different machine learning algorithms\n",
    "logreg = LogisticRegression(random_state=42, max_iter=60000)\n",
    "naive_bayes = GaussianNB()\n",
    "decision_tree = DecisionTreeClassifier(random_state=42)\n",
    "random_forest = RandomForestClassifier(random_state=42)\n",
    "\n",
    "# Train and evaluate the algorithms on the training and testing datasets\n",
    "for clf in [logreg, naive_bayes, decision_tree, random_forest]:\n",
    "    clf.fit(X_train, y_train)\n",
    "    y_pred = clf.predict(X_test)\n",
    "    accuracy = accuracy_score(y_test, y_pred)\n",
    "    precision = precision_score(y_test, y_pred)\n",
    "    recall = recall_score(y_test, y_pred)\n",
    "    f1 = f1_score(y_test, y_pred)\n",
    "    roc_auc = roc_auc_score(y_test, y_pred)\n",
    "    print(f'{clf.__class__.__name__}:')\n",
    "    print(f'Accuracy: {accuracy:.2f}')\n",
    "    print(f'Precision: {precision:.2f}')\n",
    "    print(f'Recall: {recall:.2f}')\n",
    "    print(f'F1-score: {f1:.2f}')\n",
    "    print(f'ROC AUC: {roc_auc:.2f}')\n",
    "    print('-'*50)\n",
    "\n",
    "# Determine the algorithm with the highest accuracy\n",
    "accuracies = [accuracy_score(y_test, clf.predict(X_test)) for clf in [logreg, naive_bayes, decision_tree, random_forest]]\n",
    "best_clf_index = accuracies.index(max(accuracies))\n",
    "best_clf_name = [clf.__class__.__name__ for clf in [logreg, naive_bayes, decision_tree, random_forest]][best_clf_index]\n",
    "print(f'The algorithm with the highest accuracy is {best_clf_name} with an accuracy of {max(accuracies):.2f}')\n",
    "\n"
   ]
  },
  {
   "cell_type": "code",
   "execution_count": null,
   "id": "0ab1ee8b-34d1-4b48-80b0-8de12ed63c45",
   "metadata": {},
   "outputs": [],
   "source": []
  }
 ],
 "metadata": {
  "kernelspec": {
   "display_name": "Python 3 (ipykernel)",
   "language": "python",
   "name": "python3"
  },
  "language_info": {
   "codemirror_mode": {
    "name": "ipython",
    "version": 3
   },
   "file_extension": ".py",
   "mimetype": "text/x-python",
   "name": "python",
   "nbconvert_exporter": "python",
   "pygments_lexer": "ipython3",
   "version": "3.10.6"
  }
 },
 "nbformat": 4,
 "nbformat_minor": 5
}
